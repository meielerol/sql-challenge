{
 "cells": [
  {
   "cell_type": "code",
   "execution_count": 16,
   "metadata": {},
   "outputs": [],
   "source": [
    "#dependencies\n",
    "import psycopg2\n",
    "import pandas as pd\n",
    "import numpy as np\n",
    "from sqlalchemy import create_engine\n",
    "from config import password, db_name, user"
   ]
  },
  {
   "cell_type": "code",
   "execution_count": 2,
   "metadata": {},
   "outputs": [],
   "source": [
    "from sqlalchemy import create_engine\n",
    "# engine = create_engine('postgresql+psycopg2://localhost:5432/',database=db_name,user=user,password=password)\n",
    "engine = create_engine(\n",
    "    f\"postgresql+psycopg2://{user}:{password}@/{db_name}?localhost:5432\"\n",
    ")\n",
    "conn = engine.connect()"
   ]
  },
  {
   "cell_type": "code",
   "execution_count": 3,
   "metadata": {},
   "outputs": [],
   "source": [
    "# read the data records from the tables\n",
    "salary_data = pd.read_sql(\n",
    "                \"select e.emp_no, \\\n",
    "                  first_name, \\\n",
    "                  last_name, \\\n",
    "                  salary, \\\n",
    "                  title, \\\n",
    "                  dept_name \\\n",
    "                from employees e join dept_emp de on e.emp_no = de.emp_no \\\n",
    "                  join departments d on d.dept_no = de.dept_no \\\n",
    "                  join salaries s on s.emp_no = e.emp_no \\\n",
    "                  join titles t on t.title_id = e.emp_title_id\",\n",
    "                conn)\n",
    "# we want to know the salary ranges for employees and titles"
   ]
  },
  {
   "cell_type": "code",
   "execution_count": 4,
   "metadata": {},
   "outputs": [
    {
     "data": {
      "text/html": [
       "<div>\n",
       "<style scoped>\n",
       "    .dataframe tbody tr th:only-of-type {\n",
       "        vertical-align: middle;\n",
       "    }\n",
       "\n",
       "    .dataframe tbody tr th {\n",
       "        vertical-align: top;\n",
       "    }\n",
       "\n",
       "    .dataframe thead th {\n",
       "        text-align: right;\n",
       "    }\n",
       "</style>\n",
       "<table border=\"1\" class=\"dataframe\">\n",
       "  <thead>\n",
       "    <tr style=\"text-align: right;\">\n",
       "      <th></th>\n",
       "      <th>emp_no</th>\n",
       "      <th>first_name</th>\n",
       "      <th>last_name</th>\n",
       "      <th>salary</th>\n",
       "      <th>title</th>\n",
       "      <th>dept_name</th>\n",
       "    </tr>\n",
       "  </thead>\n",
       "  <tbody>\n",
       "    <tr>\n",
       "      <th>0</th>\n",
       "      <td>10005</td>\n",
       "      <td>Kyoichi</td>\n",
       "      <td>Maliniak</td>\n",
       "      <td>78228.0</td>\n",
       "      <td>Staff</td>\n",
       "      <td>Human Resources</td>\n",
       "    </tr>\n",
       "    <tr>\n",
       "      <th>1</th>\n",
       "      <td>10010</td>\n",
       "      <td>Duangkaew</td>\n",
       "      <td>Piveteau</td>\n",
       "      <td>72488.0</td>\n",
       "      <td>Engineer</td>\n",
       "      <td>Production</td>\n",
       "    </tr>\n",
       "    <tr>\n",
       "      <th>2</th>\n",
       "      <td>10010</td>\n",
       "      <td>Duangkaew</td>\n",
       "      <td>Piveteau</td>\n",
       "      <td>72488.0</td>\n",
       "      <td>Engineer</td>\n",
       "      <td>Quality Management</td>\n",
       "    </tr>\n",
       "    <tr>\n",
       "      <th>3</th>\n",
       "      <td>10011</td>\n",
       "      <td>Mary</td>\n",
       "      <td>Sluis</td>\n",
       "      <td>42365.0</td>\n",
       "      <td>Staff</td>\n",
       "      <td>Customer Service</td>\n",
       "    </tr>\n",
       "    <tr>\n",
       "      <th>4</th>\n",
       "      <td>10035</td>\n",
       "      <td>Alain</td>\n",
       "      <td>Chappelet</td>\n",
       "      <td>41538.0</td>\n",
       "      <td>Senior Engineer</td>\n",
       "      <td>Production</td>\n",
       "    </tr>\n",
       "  </tbody>\n",
       "</table>\n",
       "</div>"
      ],
      "text/plain": [
       "   emp_no first_name  last_name   salary            title           dept_name\n",
       "0   10005    Kyoichi   Maliniak  78228.0            Staff     Human Resources\n",
       "1   10010  Duangkaew   Piveteau  72488.0         Engineer          Production\n",
       "2   10010  Duangkaew   Piveteau  72488.0         Engineer  Quality Management\n",
       "3   10011       Mary      Sluis  42365.0            Staff    Customer Service\n",
       "4   10035      Alain  Chappelet  41538.0  Senior Engineer          Production"
      ]
     },
     "execution_count": 4,
     "metadata": {},
     "output_type": "execute_result"
    }
   ],
   "source": [
    "salary_data.head()"
   ]
  },
  {
   "cell_type": "code",
   "execution_count": 5,
   "metadata": {},
   "outputs": [
    {
     "data": {
      "text/plain": [
       "count    331603.000000\n",
       "mean      52972.225432\n",
       "std       14299.003001\n",
       "min       40000.000000\n",
       "25%       40000.000000\n",
       "50%       48691.000000\n",
       "75%       61765.000000\n",
       "max      129492.000000\n",
       "Name: salary, dtype: float64"
      ]
     },
     "execution_count": 5,
     "metadata": {},
     "output_type": "execute_result"
    }
   ],
   "source": [
    "# get a summary of the salaries\n",
    "salary_data['salary'].describe()"
   ]
  },
  {
   "cell_type": "code",
   "execution_count": 6,
   "metadata": {},
   "outputs": [
    {
     "data": {
      "text/plain": [
       "0         78228.0\n",
       "1         72488.0\n",
       "2         72488.0\n",
       "3         42365.0\n",
       "4         41538.0\n",
       "           ...   \n",
       "331598    40000.0\n",
       "331599    41002.0\n",
       "331600    40000.0\n",
       "331601    52282.0\n",
       "331602    40000.0\n",
       "Name: salary, Length: 331603, dtype: float64"
      ]
     },
     "execution_count": 6,
     "metadata": {},
     "output_type": "execute_result"
    }
   ],
   "source": [
    "salaries = salary_data['salary']\n",
    "salaries"
   ]
  },
  {
   "cell_type": "code",
   "execution_count": 23,
   "metadata": {},
   "outputs": [
    {
     "data": {
      "text/plain": [
       "Text(0.5, 0, 'Salary')"
      ]
     },
     "execution_count": 23,
     "metadata": {},
     "output_type": "execute_result"
    },
    {
     "data": {
      "image/png": "[encoded data removed]",
      "text/plain": [
       "<Figure size 432x288 with 1 Axes>"
      ]
     },
     "metadata": {
      "needs_background": "light"
     },
     "output_type": "display_data"
    }
   ],
   "source": [
    "# create the salary histogram to show common ranges\n",
    "salary_histogram = salaries.plot.hist(bins = 10, title = \"Salary of Employees\")\n",
    "salary_histogram.set_xlabel(\"Salary\")"
   ]
  },
  {
   "cell_type": "code",
   "execution_count": 24,
   "metadata": {},
   "outputs": [],
   "source": [
    "# save the salary histogram to a png\n",
    "salaryRange_fig = salary_histogram.get_figure()\n",
    "salaryRange_fig.savefig(\"Salary-Histogram.png\")"
   ]
  },
  {
   "cell_type": "code",
   "execution_count": 53,
   "metadata": {},
   "outputs": [
    {
     "data": {
      "text/html": [
       "<div>\n",
       "<style scoped>\n",
       "    .dataframe tbody tr th:only-of-type {\n",
       "        vertical-align: middle;\n",
       "    }\n",
       "\n",
       "    .dataframe tbody tr th {\n",
       "        vertical-align: top;\n",
       "    }\n",
       "\n",
       "    .dataframe thead th {\n",
       "        text-align: right;\n",
       "    }\n",
       "</style>\n",
       "<table border=\"1\" class=\"dataframe\">\n",
       "  <thead>\n",
       "    <tr style=\"text-align: right;\">\n",
       "      <th></th>\n",
       "      <th>salary</th>\n",
       "    </tr>\n",
       "    <tr>\n",
       "      <th>title</th>\n",
       "      <th></th>\n",
       "    </tr>\n",
       "  </thead>\n",
       "  <tbody>\n",
       "    <tr>\n",
       "      <th>Senior Engineer</th>\n",
       "      <td>48505.714313</td>\n",
       "    </tr>\n",
       "    <tr>\n",
       "      <th>Engineer</th>\n",
       "      <td>48533.339845</td>\n",
       "    </tr>\n",
       "    <tr>\n",
       "      <th>Technique Leader</th>\n",
       "      <td>48574.320997</td>\n",
       "    </tr>\n",
       "    <tr>\n",
       "      <th>Assistant Engineer</th>\n",
       "      <td>48615.074794</td>\n",
       "    </tr>\n",
       "    <tr>\n",
       "      <th>Manager</th>\n",
       "      <td>51531.041667</td>\n",
       "    </tr>\n",
       "    <tr>\n",
       "      <th>Staff</th>\n",
       "      <td>58460.049489</td>\n",
       "    </tr>\n",
       "    <tr>\n",
       "      <th>Senior Staff</th>\n",
       "      <td>58557.394072</td>\n",
       "    </tr>\n",
       "  </tbody>\n",
       "</table>\n",
       "</div>"
      ],
      "text/plain": [
       "                          salary\n",
       "title                           \n",
       "Senior Engineer     48505.714313\n",
       "Engineer            48533.339845\n",
       "Technique Leader    48574.320997\n",
       "Assistant Engineer  48615.074794\n",
       "Manager             51531.041667\n",
       "Staff               58460.049489\n",
       "Senior Staff        58557.394072"
      ]
     },
     "execution_count": 53,
     "metadata": {},
     "output_type": "execute_result"
    }
   ],
   "source": [
    "avgSalary_title = pd.DataFrame(salary_data.groupby('title')['salary'].mean())\n",
    "avgSalary_title = avgSalary_title.sort_values('salary',ascending=True)\n",
    "avgSalary_title"
   ]
  },
  {
   "cell_type": "code",
   "execution_count": 54,
   "metadata": {},
   "outputs": [
    {
     "data": {
      "text/plain": [
       "Text(0, 0.5, 'Average Salary')"
      ]
     },
     "execution_count": 54,
     "metadata": {},
     "output_type": "execute_result"
    },
    {
     "data": {
      "image/png": "[encoded data removed]",
      "text/plain": [
       "<Figure size 432x288 with 1 Axes>"
      ]
     },
     "metadata": {
      "needs_background": "light"
     },
     "output_type": "display_data"
    }
   ],
   "source": [
    "# create the bar chart for avg salary by title\n",
    "salary_barChart = avgSalary_title.plot.bar(title = 'Average Salary By Job Title',legend=False)\n",
    "salary_barChart.set_xlabel(\"\")\n",
    "salary_barChart.set_ylabel(\"Average Salary\")"
   ]
  },
  {
   "cell_type": "code",
   "execution_count": 55,
   "metadata": {},
   "outputs": [],
   "source": [
    "# save the salary histogram to a png\n",
    "salaryTitleAvg_fig = salary_barChart.get_figure()\n",
    "salaryTitleAvg_fig.savefig(\"Avg-Salary-Title.png\")"
   ]
  },
  {
   "cell_type": "code",
   "execution_count": null,
   "metadata": {},
   "outputs": [],
   "source": []
  }
 ],
 "metadata": {
  "kernelspec": {
   "display_name": "Python 3",
   "language": "python",
   "name": "python3"
  },
  "language_info": {
   "codemirror_mode": {
    "name": "ipython",
    "version": 3
   },
   "file_extension": ".py",
   "mimetype": "text/x-python",
   "name": "python",
   "nbconvert_exporter": "python",
   "pygments_lexer": "ipython3",
   "version": "3.8.5"
  }
 },
 "nbformat": 4,
 "nbformat_minor": 4
}
